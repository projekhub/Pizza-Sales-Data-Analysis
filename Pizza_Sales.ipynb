{
  "nbformat": 4,
  "nbformat_minor": 0,
  "metadata": {
    "colab": {
      "provenance": []
    },
    "kernelspec": {
      "name": "python3",
      "display_name": "Python 3"
    },
    "language_info": {
      "name": "python"
    }
  },
  "cells": [
    {
      "cell_type": "code",
      "execution_count": null,
      "metadata": {
        "id": "hOH0BaV3k_g8"
      },
      "outputs": [],
      "source": [
        "#STEP 1: Upload Dataset\n",
        "import pandas as pd\n",
        "\n",
        "from google.colab import files\n",
        "uploaded = files.upload()\n",
        "\n",
        "df = pd.read_excel('/content/Data Model - Pizza Sales.xlsx')"
      ]
    },
    {
      "cell_type": "code",
      "source": [
        "#STEP 2: Data Cleaning\n",
        "df.isnull().sum()       #cek missing value\n",
        "df.duplicated().sum()   #cek duplikasi"
      ],
      "metadata": {
        "collapsed": true,
        "id": "hUeLCdwbllRh"
      },
      "execution_count": null,
      "outputs": []
    },
    {
      "cell_type": "code",
      "source": [
        "#STEP 3: EDA\n",
        "df.head()               #melihat 5 data teratas\n",
        "df.info()               #info struktur data\n",
        "df.describe()           #cek statistik ringkasan\n",
        "df.shape                #cek ukuran data (banyak data, kolom)\n",
        "df.dtypes               #cek tipe data\n",
        "df.columns              #cek nama-nama kolom"
      ],
      "metadata": {
        "id": "6VJicC5brRk6"
      },
      "execution_count": null,
      "outputs": []
    },
    {
      "cell_type": "code",
      "source": [
        "#Analisa 1: top 5 pizza terlaris\n",
        "top5_pizza = df['pizza_name'].value_counts().head(5).reset_index()\n",
        "top5_pizza.columns = ['pizza_name', 'quantity']\n",
        "print(top5_pizza)\n",
        "\n",
        "#Visualisasi\n",
        "import matplotlib.pyplot as plt\n",
        "import seaborn as sns\n",
        "\n",
        "pizza_color = ['#E16E03']\n",
        "sns.set(style=\"ticks\")\n",
        "\n",
        "plt.figure(figsize=(8, 6))\n",
        "sns.barplot(data=top5_pizza, x='pizza_name', y='quantity', color = pizza_color[0])\n",
        "\n",
        "for index, row in top5_pizza.iterrows():\n",
        "    plt.text(\n",
        "        x=index,\n",
        "        y=row['quantity'] -100,\n",
        "        s=row['quantity'],\n",
        "        ha='center',\n",
        "        va='top',\n",
        "        color='white',\n",
        "        fontweight='bold')\n",
        "\n",
        "plt.title('Top 5 Pizza Terlaris Berdasarkan Jumlah Pesanan')\n",
        "plt.xlabel('Nama Pizza')\n",
        "plt.ylabel('Jumlah Pesanan')\n",
        "plt.tight_layout()\n",
        "plt.xticks(rotation=10)\n",
        "plt.tight_layout()\n",
        "plt.show()\n"
      ],
      "metadata": {
        "collapsed": true,
        "id": "aKD52uL01mnz"
      },
      "execution_count": null,
      "outputs": []
    },
    {
      "cell_type": "code",
      "source": [
        "# Analisa 2: top 3 pizza revenue tertinggi\n",
        "df['revenue'] = df['total_price']\n",
        "top3_revenue = df.groupby('pizza_name')['revenue'].sum().sort_values(ascending=False).head(3).reset_index()\n",
        "print(top3_revenue)\n",
        "\n",
        "#Visualisasi\n",
        "import matplotlib.pyplot as plt\n",
        "import seaborn as sns\n",
        "\n",
        "pizza_color = ['#536304']\n",
        "sns.set(style=\"ticks\")\n",
        "\n",
        "plt.figure(figsize=(8, 6))\n",
        "sns.barplot(data=top3_revenue, x='pizza_name', y='revenue', color = pizza_color[0])\n",
        "\n",
        "for index, row in top3_revenue.iterrows():\n",
        "    plt.text(\n",
        "        x=index,\n",
        "        y=row['revenue'] -5000,\n",
        "        s=round(row['revenue'],2),\n",
        "        ha='center',\n",
        "        va='bottom',\n",
        "        color='white',\n",
        "        fontweight='bold'\n",
        "    )\n",
        "\n",
        "plt.title('Top 3 Pizza dengan Revenue Tertinggi')\n",
        "plt.xlabel('Nama Pizza')\n",
        "plt.ylabel('Revenue (USD)')\n",
        "plt.tight_layout()\n",
        "plt.xticks(rotation=10)\n",
        "plt.tight_layout()\n",
        "plt.show()\n",
        "\n",
        "\n",
        "\n"
      ],
      "metadata": {
        "collapsed": true,
        "id": "55toHFpG4XRU"
      },
      "execution_count": null,
      "outputs": []
    },
    {
      "cell_type": "code",
      "source": [
        "# Analisa 3: distribusi ukuran pizza\n",
        "size_pizza = df['pizza_size'].value_counts().reset_index()\n",
        "size_pizza.columns = ['size_pizza', 'quantity']\n",
        "print(size_pizza)\n",
        "\n",
        "#Visualisasi\n",
        "import matplotlib.pyplot as plt\n",
        "import seaborn as sns\n",
        "\n",
        "pizza_color = ['#B92F17']\n",
        "sns.set(style=\"ticks\")\n",
        "\n",
        "plt.figure(figsize=(6, 5))\n",
        "sns.barplot(data=size_pizza, x='size_pizza', y='quantity',color = pizza_color[0], order=sorted(size_pizza['size_pizza']))\n",
        "\n",
        "for index, row in size_pizza.iterrows():\n",
        "    plt.text(\n",
        "        x=index,\n",
        "        y=row['quantity'] +700,\n",
        "        s=row['quantity'],\n",
        "        ha='center',\n",
        "        va='top',\n",
        "        color='black',\n",
        "        fontweight='bold')\n",
        "\n",
        "plt.title('Distribusi Ukuran Pizza')\n",
        "plt.xlabel('Ukuran Pizza')\n",
        "plt.ylabel('Jumlah Pesanan')\n",
        "plt.tight_layout()\n",
        "plt.show()"
      ],
      "metadata": {
        "id": "EVCzVr_T4aXg"
      },
      "execution_count": null,
      "outputs": []
    },
    {
      "cell_type": "code",
      "source": [
        "# Analisa 4: apa varian pizza yang sering dipesan dalam ukuran large?\n",
        "large_pizza = df[df['pizza_size'] == 'L'].reset_index()\n",
        "large_pizza_quantity = large_pizza.groupby('pizza_name')['quantity'].sum().sort_values(ascending=False).head(5)\n",
        "print(large_pizza_quantity)\n",
        "\n",
        "# Visualisasi\n",
        "import matplotlib.pyplot as plt\n",
        "import seaborn as sns\n",
        "\n",
        "pizza_color = ['#EA9109']\n",
        "sns.set(style=\"ticks\")\n",
        "\n",
        "plt.figure(figsize=(8, 5))\n",
        "sns.barplot(\n",
        "    x=large_pizza_quantity.index,\n",
        "    y=large_pizza_quantity.values,\n",
        "    color=pizza_color[0]\n",
        ")\n",
        "\n",
        "for index, value in enumerate(large_pizza_quantity.values):\n",
        "    plt.text(\n",
        "        x=index,\n",
        "        y=value -100,\n",
        "        s=int(value),\n",
        "        ha='center',\n",
        "        va='bottom',\n",
        "        color='white',\n",
        "        fontweight='bold'\n",
        "    )\n",
        "\n",
        "plt.title('Top 5 Pizza Terlaris (Ukuran Large)')\n",
        "plt.xlabel('Nama Pizza')\n",
        "plt.ylabel('Jumlah Terjual')\n",
        "plt.xticks(rotation=10)\n",
        "plt.tight_layout()\n",
        "plt.show()"
      ],
      "metadata": {
        "id": "rKeHma6StJa8"
      },
      "execution_count": null,
      "outputs": []
    },
    {
      "cell_type": "code",
      "source": [],
      "metadata": {
        "id": "BnAqX35A3cQD"
      },
      "execution_count": 8,
      "outputs": []
    }
  ]
}